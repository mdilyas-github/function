{
 "cells": [
  {
   "cell_type": "code",
   "execution_count": 1,
   "id": "e480b319",
   "metadata": {},
   "outputs": [],
   "source": [
    "def greet():   #defineing a function\n",
    "    print('hello')        #logic "
   ]
  },
  {
   "cell_type": "code",
   "execution_count": 2,
   "id": "46778f1e",
   "metadata": {},
   "outputs": [
    {
     "name": "stdout",
     "output_type": "stream",
     "text": [
      "hello\n"
     ]
    }
   ],
   "source": [
    "greet() #calling a function"
   ]
  },
  {
   "cell_type": "code",
   "execution_count": 5,
   "id": "f4e13c87",
   "metadata": {},
   "outputs": [],
   "source": [
    "def greet(username):\n",
    "    print(f\"hello, {username.title()}\")"
   ]
  },
  {
   "cell_type": "code",
   "execution_count": 6,
   "id": "b43d95dd",
   "metadata": {},
   "outputs": [
    {
     "name": "stdout",
     "output_type": "stream",
     "text": [
      "hello, Ilyas\n"
     ]
    }
   ],
   "source": [
    "greet('ilyas')"
   ]
  },
  {
   "cell_type": "code",
   "execution_count": 11,
   "id": "85350437",
   "metadata": {},
   "outputs": [],
   "source": [
    "def describe_pet(animal_type,pet_name):\n",
    "    print(f\"i have a {animal_type}\")\n",
    "    print(f\"my {animal_type}'s name is {pet_name}\")"
   ]
  },
  {
   "cell_type": "code",
   "execution_count": 9,
   "id": "7f60a27d",
   "metadata": {},
   "outputs": [
    {
     "name": "stdout",
     "output_type": "stream",
     "text": [
      "i have a dog\n",
      "my dog's' name is doggi\n"
     ]
    }
   ],
   "source": [
    "describe_pet(\"dog\",\"doggi\")"
   ]
  },
  {
   "cell_type": "code",
   "execution_count": null,
   "id": "28da4135",
   "metadata": {},
   "outputs": [],
   "source": [
    "#keyword"
   ]
  },
  {
   "cell_type": "code",
   "execution_count": 12,
   "id": "a1385683",
   "metadata": {},
   "outputs": [
    {
     "name": "stdout",
     "output_type": "stream",
     "text": [
      "i have a dog\n",
      "my dog's name is doggi\n"
     ]
    }
   ],
   "source": [
    "describe_pet(animal_type=\"dog\",pet_name=\"doggi\")"
   ]
  },
  {
   "cell_type": "code",
   "execution_count": null,
   "id": "8ce1b8aa",
   "metadata": {},
   "outputs": [],
   "source": []
  }
 ],
 "metadata": {
  "kernelspec": {
   "display_name": "Python 3 (ipykernel)",
   "language": "python",
   "name": "python3"
  },
  "language_info": {
   "codemirror_mode": {
    "name": "ipython",
    "version": 3
   },
   "file_extension": ".py",
   "mimetype": "text/x-python",
   "name": "python",
   "nbconvert_exporter": "python",
   "pygments_lexer": "ipython3",
   "version": "3.9.7"
  }
 },
 "nbformat": 4,
 "nbformat_minor": 5
}
